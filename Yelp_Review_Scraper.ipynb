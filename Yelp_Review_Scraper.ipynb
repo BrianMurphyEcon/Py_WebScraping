{
 "cells": [
  {
   "cell_type": "code",
   "execution_count": 179,
   "id": "a0214b7c-2aca-4be8-bc60-853a87f0974a",
   "metadata": {},
   "outputs": [],
   "source": [
    "from selenium import webdriver\n",
    "from selenium.webdriver.common.by import By\n",
    "from selenium.webdriver.chrome.service import Service\n",
    "from selenium.webdriver.common.keys import Keys\n",
    "from selenium.webdriver.chrome.options import Options\n",
    "from bs4 import BeautifulSoup\n",
    "import time"
   ]
  },
  {
   "cell_type": "code",
   "execution_count": 180,
   "id": "fa0c1597-1539-4559-9a84-38d0d5e95627",
   "metadata": {},
   "outputs": [],
   "source": [
    "# Set up Selenium WebDriver\n",
    "chrome_options = Options()\n",
    "chrome_options.add_argument('--headless') \n",
    "chrome_options.add_argument('--disable-gpu') \n",
    "chrome_options.add_argument('--no-sandbox')"
   ]
  },
  {
   "cell_type": "code",
   "execution_count": 181,
   "id": "cecab5d0-eb1a-4b34-ab2b-078be615c0fc",
   "metadata": {},
   "outputs": [],
   "source": [
    "# Set up ChromeDriver\n",
    "service = Service(r'C:\\Users\\bmmur\\OneDrive\\Desktop\\chromedriver\\chromedriver.exe')\n",
    "driver = webdriver.Chrome(service=service, options=chrome_options)"
   ]
  },
  {
   "cell_type": "code",
   "execution_count": 182,
   "id": "bc259ad7-c78e-4807-8db1-c0195d638723",
   "metadata": {},
   "outputs": [],
   "source": [
    "# URL of the Yelp page\n",
    "# This will turn into a loop once all businesses are collected, i.e. we will loop through all businesses to get all reviews for each specific business\n",
    "\n",
    "url = 'https://www.yelp.com/biz/dalessandro-s-steaks-and-hoagies-philadelphia?sort_by=date_desc'"
   ]
  },
  {
   "cell_type": "code",
   "execution_count": 183,
   "id": "e4dd4c17-399c-409c-97fd-48e4674de571",
   "metadata": {},
   "outputs": [
    {
     "name": "stdout",
     "output_type": "stream",
     "text": [
      "Review: Should really be 4.5 stars. The only knock is that their wait times are ridiculously long, and their stated wait times on their screens significantly understate the wait times. We came around 730 this past Saturday, during the heat wave and standing around for 40 minutes was miserable.I will say though that the wait was still worth it because these cheesesteak was delicious!! The meat was tender but will just enough chew to give it a good texture, and the cheese was fully incorporated throughout. I got salt and pepper, and fried onions; no peppers this time and that was the right move!If you are in the area, make a trip here but plan to wait twice whatever is stated on their screen. You have been warned.\n",
      "Star Rating: 4 star rating\n",
      "Date: Jun 24, 2024\n",
      "---\n",
      "Review: Food is great don't get me wrong but the lines are ridiculous. Sometimes it's out the door around the block\n",
      "Star Rating: 3 star rating\n",
      "Date: Jun 24, 2024\n",
      "---\n",
      "Review: Got the mushroom cheesesteak with provolone sharp, grilled onions, and long hots. Initially I wasn't impressed , but the more I ate the more I liked it. The meat wasn't as flavorful as I'd like, but I was raised on carne asada simmered in a pot. The bread was mediocre and tasted store bought. The provolone sharp bound the meat well and provided some much needed fat, but there wasn't enough bite to the sandwich.In fairness, the consistency of the meat made it really easy to bite into with absolutely zero gristle. The long hots provided a bit of texture but no heat, while the grilled onions and mushrooms rounded out the experience. A more umami back-of-the tongue profile is what I wanted.I called ahead and the girl taking orders was efficient and clear. It's cash-only, with separate lines for ordering and for pick-up. The girl who took my order was working the line, kicking out those whose names were not called over the speaker and displayed prominently on the screen by the windows.I asked the people in line what their faves were and the #1 answer was the classic cheesesteak. At the window I requested long hots and the crew gave me a side quick. Parking is convenient, but don't expect to eat there: get your food and get the hell out! The neighborhood is clean, safe, and a few blocks from Main St.It's better than Chubby's but I can't imagine it's the best the city has to offer. It does make me think I may not dislike cheesesteaks as a meat delivery unit... but I need better bread and more flavor.If you're in Roxborough, this is the place to try.\n",
      "Star Rating: 4 star rating\n",
      "Date: Jun 22, 2024\n",
      "---\n",
      "Review: New management obliterated this place. Food and service are straight up **** they'll be bankrupt soon enough.\n",
      "Star Rating: 1 star rating\n",
      "Date: Jun 20, 2024\n",
      "---\n",
      "Review: Update - I went golfing at Walnut Lane on Monday, and, of course, walked over to Dalessandro's after playing. To be honest, I began thinking about the cheesesteak on the 12th hole.I had triple onions and double cheese - yes, when they took my order, there was a big smile when I said \"..triple onions\". When can you EVER have too many onions?The cheesesteak was exceptional - I savored every bite (and ate all the onions)!\n",
      "Star Rating: 4 star rating\n",
      "Date: Jun 19, 2024\n",
      "---\n",
      "Review: Steak was plentiful and roll was tasty, however the sandwich was drastically under seasoned.\n",
      "Star Rating: 4 star rating\n",
      "Date: Jun 2, 2022\n",
      "---\n",
      "Review: This favorite came highly recommended from several locals from Philly. I made the drive up on a Friday around 2:00pm. Luckily for me, there was no line and plenty of street parking was available.I kept it simple with the classic cheesesteak with onions. The bread was the softest I've ever had for a sandwich.  Since they weren't busy, it took less than 10 minutes to get my sandwich.  I loved the meat to cheese ratio and the onions simply set it off just right!The only is I wished the meat was seasoned a tad more but overall I would def come back especially for the value. My sandwich was $14.Remember: they are CASH ONLY\n",
      "Star Rating: 3 star rating\n",
      "Date: Jun 18, 2024\n",
      "---\n",
      "Review: Hands down the best steak and cheese (cheesesteak) I've ever had.  Extremely flavorful with mass amounts of portions.\n",
      "Star Rating: 4 star rating\n",
      "Date: Jun 17, 2024\n",
      "---\n",
      "Review: I was headed to another restaurant, but 45 people in a line wrapped around the corner can't lie! I hit a u-turn and got in line with the rest of the them. I waited in the summer heat, pregnant, for 40 minutes...and it was completely worth it!!!!! This place is worth the hype and the wait. Delicious!\n",
      "Star Rating: 5 star rating\n",
      "Date: Jun 16, 2024\n",
      "---\n",
      "Review: only 4 tables outside to eat at definitely a carry out type of establishment. The food was good! I got the classic Philly with mushroom & banana peppers. Added honey Sriracha chips. Would probably not go back because it lacked flavor but was a good amount of food for my buck!\n",
      "Star Rating: 5 star rating\n",
      "Date: Jun 11, 2024\n",
      "---\n"
     ]
    }
   ],
   "source": [
    "driver.get(url)\n",
    "time.sleep(5)\n",
    "\n",
    "# Use BeautifulSoup to parse the page source\n",
    "soup = BeautifulSoup(driver.page_source, 'html.parser')\n",
    "\n",
    "# Find the review elements\n",
    "reviews = soup.find_all('p', class_='comment__09f24__D0cxf y-css-h9c2fl')\n",
    "\n",
    "# Find all star rating elements\n",
    "star_elements = soup.find_all('div', class_='y-css-9tnml4', role='img')\n",
    "\n",
    "# From investigation, the first two star elements are from Yelp recommendations, so let's drop those\n",
    "star_elements = star_elements[2:]\n",
    "\n",
    "# Find all date elements\n",
    "date_elements = soup.find_all('span', class_='y-css-wfbtsu')\n",
    "\n",
    "# From investigation, the first 13 elements are not related to dates, so drop those\n",
    "date_elements = date_elements[13:]\n",
    "\n",
    "# Loop through reviews, star elements, and dates (adjust range as needed)\n",
    "for review, star_element, date_element in zip(reviews[:10], star_elements[:10], date_elements[:10]):\n",
    "    # Extract review text\n",
    "    review_text = review.get_text(strip=True)\n",
    "    print(f'Review: {review_text}')\n",
    "\n",
    "    # Extract star rating (aria-label attribute)\n",
    "    aria_label = star_element.get('aria-label')\n",
    "    print(f'Star Rating: {aria_label}')\n",
    "\n",
    "    # Extract date text\n",
    "    date_text = date_element.text.strip()\n",
    "    print(f'Date: {date_text}')\n",
    "\n",
    "    print('---')\n",
    "\n",
    "# Close the Selenium webdriver\n",
    "driver.quit()\n"
   ]
  },
  {
   "cell_type": "code",
   "execution_count": null,
   "id": "65d7da0f-c2fe-485c-9bf6-47e20720d771",
   "metadata": {},
   "outputs": [],
   "source": []
  }
 ],
 "metadata": {
  "kernelspec": {
   "display_name": "Python 3 (ipykernel)",
   "language": "python",
   "name": "python3"
  },
  "language_info": {
   "codemirror_mode": {
    "name": "ipython",
    "version": 3
   },
   "file_extension": ".py",
   "mimetype": "text/x-python",
   "name": "python",
   "nbconvert_exporter": "python",
   "pygments_lexer": "ipython3",
   "version": "3.11.7"
  }
 },
 "nbformat": 4,
 "nbformat_minor": 5
}
