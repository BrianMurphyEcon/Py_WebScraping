{
 "cells": [
  {
   "cell_type": "code",
   "execution_count": 25,
   "id": "eafcf473-c20f-4d7d-8e72-af5a96ffc788",
   "metadata": {},
   "outputs": [],
   "source": [
    "import requests\n",
    "from bs4 import BeautifulSoup\n",
    "import pandas as pd\n",
    "import time"
   ]
  },
  {
   "cell_type": "code",
   "execution_count": 26,
   "id": "759e3260-ac4f-443b-b8a4-9e06cfc095cd",
   "metadata": {},
   "outputs": [],
   "source": [
    "# URL of the Yelp restaurant page\n",
    "restaurant_url = \"https://www.yelp.com/biz/son-of-a-butcher-dallas-3\""
   ]
  },
  {
   "cell_type": "code",
   "execution_count": 27,
   "id": "f5cd1b12-2f88-49aa-bc13-7e00fe173e40",
   "metadata": {},
   "outputs": [],
   "source": [
    "def extract_restaurant_info(url):\n",
    "    headers = {\n",
    "        \"User-Agent\": \"Mozilla/5.0 (Windows NT 10.0; Win64; x64) AppleWebKit/537.36 (KHTML, like Gecko) Chrome/91.0.4472.124 Safari/537.36\"\n",
    "    }\n",
    "    response = requests.get(url, headers=headers)\n",
    "    soup = BeautifulSoup(response.text, 'html.parser')\n",
    "\n",
    "    # Extracting basic restaurant information\n",
    "    restaurant_info = {}\n",
    "    \n",
    "    # Restaurant name\n",
    "    name_element = soup.find('h1', class_='y-css-olzveb')\n",
    "    restaurant_info['Name'] = name_element.get_text(strip=True) if name_element else None\n",
    "    \n",
    "    # Address\n",
    "    address_element = soup.find('address')\n",
    "    restaurant_info['Address'] = address_element.get_text(strip=True) if address_element else None\n",
    "    \n",
    "    # Price point\n",
    "    price_element = soup.find('span', class_='y-css-33yfe', attrs={\"data-font-weight\": \"semibold\"})\n",
    "    restaurant_info['Price Point'] = price_element.get_text(strip=True) if price_element else None\n",
    "\n",
    "    # Cuisine\n",
    "    category_elements = soup.find_all('span', class_='y-css-kw85nd')\n",
    "    categories = [category.get_text(strip=True) for category in category_elements if category.find('a')]\n",
    "    restaurant_info['Categories'] = \" \".join(categories)\n",
    "\n",
    "    # Rating\n",
    "    rating_element = soup.find('span', class_='y-css-kw85nd', attrs={\"data-font-weight\": \"semibold\"})\n",
    "    restaurant_info['Rating'] = rating_element.get_text(strip=True) if rating_element else None\n",
    "    \n",
    "    return restaurant_info\n"
   ]
  },
  {
   "cell_type": "code",
   "execution_count": 28,
   "id": "d9aeb67b-b496-4a12-8d26-f99dc1730661",
   "metadata": {},
   "outputs": [],
   "source": [
    "# Extract restaurant info\n",
    "restaurant_info = extract_restaurant_info(restaurant_url)"
   ]
  },
  {
   "cell_type": "code",
   "execution_count": 29,
   "id": "a2c1d562-3551-4a85-99a8-bcbe33799959",
   "metadata": {},
   "outputs": [
    {
     "name": "stdout",
     "output_type": "stream",
     "text": [
      "{'Name': 'Son of a Butcher', 'Address': '2026 Greenville AveDallas, TX 75206', 'Price Point': '$$', 'Categories': 'Burgers, American, Desserts', 'Rating': '4.2'}\n"
     ]
    }
   ],
   "source": [
    "# Print restaurant info\n",
    "print(restaurant_info)"
   ]
  }
 ],
 "metadata": {
  "kernelspec": {
   "display_name": "Python 3 (ipykernel)",
   "language": "python",
   "name": "python3"
  },
  "language_info": {
   "codemirror_mode": {
    "name": "ipython",
    "version": 3
   },
   "file_extension": ".py",
   "mimetype": "text/x-python",
   "name": "python",
   "nbconvert_exporter": "python",
   "pygments_lexer": "ipython3",
   "version": "3.11.7"
  }
 },
 "nbformat": 4,
 "nbformat_minor": 5
}
